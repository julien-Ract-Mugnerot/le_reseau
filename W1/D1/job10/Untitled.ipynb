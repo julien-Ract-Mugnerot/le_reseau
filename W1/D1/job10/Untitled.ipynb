{
 "cells": [
  {
   "cell_type": "code",
   "execution_count": 1,
   "id": "f3a45f00",
   "metadata": {
    "ExecuteTime": {
     "end_time": "2023-09-25T11:50:06.831679Z",
     "start_time": "2023-09-25T11:50:06.821466Z"
    }
   },
   "outputs": [],
   "source": [
    "txt=\"\"\"Book Title,Quantity,Unit Price\n",
    "The Great Gatsby,50,10.99\n",
    "To Kill a Mockingbird,30,8.75\n",
    "1984,25,7.50\n",
    "Pride and Prejudice,40,9.25\n",
    "Lord of the Rings,20,12.00\n",
    "The Odyssey,60,11.50\n",
    "The Catcher in the Rye,35,8.99\n",
    "Brave New World,28,7.75\n",
    "Fahrenheit,51,22,9.50\n",
    "The Hobbit,45,10.25\n",
    "Animal Farm,30,7.75\n",
    "Jane Eyre,27,8.50\n",
    "Wuthering Heights,18,7.25\n",
    "Moby Dick,16,12.99\n",
    "The Adventures of Huckleberry Finn,33,9.75\n",
    "The Grapes of Wrath,29,8.50\n",
    "Frankenstein,21,7.99\n",
    "The Picture of Dorian Gray,17,10.50\n",
    "The Count of Monte Cristo,40,11.25\n",
    "War and Peace,50,9.99\n",
    "Dracula,25,8.25\n",
    "Alice in Wonderland,36,7.75\n",
    "The Scarlet Letter,19,9.00\n",
    "What the Day Owes the Night,15,12.39\n",
    "The Allegory of the Cave,8,5.95\n",
    "To the Lighthouse,32,8.99\n",
    "The Sun Also Rises,23,7.50\n",
    "Crime and Punishment,28,9.25\n",
    "Heart of Darkness,19,12.00\n",
    "One Hundred Years of Solitude,42,11.50\n",
    "The Brothers Karamazov,27,8.99\n",
    "Catch,22,31,7.75\n",
    "The Old Man and the Sea,25,9.50\n",
    "Ulysses,18,10.25\n",
    "Pachinko,29,7.75\n",
    "The Kite Runner,24,8.50\n",
    "The Alchemist,35,7.25\n",
    "Les Misérables,37,10.75\n",
    "Anna Karenina,26,8.25\n",
    "Great Expectations,33,9.00\"\"\"\n"
   ]
  },
  {
   "cell_type": "code",
   "execution_count": 4,
   "id": "f00da816",
   "metadata": {
    "ExecuteTime": {
     "end_time": "2023-09-25T11:52:34.335209Z",
     "start_time": "2023-09-25T11:52:34.328002Z"
    }
   },
   "outputs": [
    {
     "data": {
      "text/plain": [
       "['Book Title,Quantity,Unit Price',\n",
       " 'The Great Gatsby,50,10.99',\n",
       " 'To Kill a Mockingbird,30,8.75',\n",
       " '1984,25,7.50',\n",
       " 'Pride and Prejudice,40,9.25',\n",
       " 'Lord of the Rings,20,12.00',\n",
       " 'The Odyssey,60,11.50',\n",
       " 'The Catcher in the Rye,35,8.99',\n",
       " 'Brave New World,28,7.75',\n",
       " 'Fahrenheit,51,22,9.50',\n",
       " 'The Hobbit,45,10.25',\n",
       " 'Animal Farm,30,7.75',\n",
       " 'Jane Eyre,27,8.50',\n",
       " 'Wuthering Heights,18,7.25',\n",
       " 'Moby Dick,16,12.99',\n",
       " 'The Adventures of Huckleberry Finn,33,9.75',\n",
       " 'The Grapes of Wrath,29,8.50',\n",
       " 'Frankenstein,21,7.99',\n",
       " 'The Picture of Dorian Gray,17,10.50',\n",
       " 'The Count of Monte Cristo,40,11.25',\n",
       " 'War and Peace,50,9.99',\n",
       " 'Dracula,25,8.25',\n",
       " 'Alice in Wonderland,36,7.75',\n",
       " 'The Scarlet Letter,19,9.00',\n",
       " 'What the Day Owes the Night,15,12.39',\n",
       " 'The Allegory of the Cave,8,5.95',\n",
       " 'To the Lighthouse,32,8.99',\n",
       " 'The Sun Also Rises,23,7.50',\n",
       " 'Crime and Punishment,28,9.25',\n",
       " 'Heart of Darkness,19,12.00',\n",
       " 'One Hundred Years of Solitude,42,11.50',\n",
       " 'The Brothers Karamazov,27,8.99',\n",
       " 'Catch,22,31,7.75',\n",
       " 'The Old Man and the Sea,25,9.50',\n",
       " 'Ulysses,18,10.25',\n",
       " 'Pachinko,29,7.75',\n",
       " 'The Kite Runner,24,8.50',\n",
       " 'The Alchemist,35,7.25',\n",
       " 'Les Misérables,37,10.75',\n",
       " 'Anna Karenina,26,8.25',\n",
       " 'Great Expectations,33,9.00']"
      ]
     },
     "execution_count": 4,
     "metadata": {},
     "output_type": "execute_result"
    }
   ],
   "source": [
    "txt.split('\\n')"
   ]
  },
  {
   "cell_type": "code",
   "execution_count": null,
   "id": "86535dde",
   "metadata": {},
   "outputs": [],
   "source": []
  },
  {
   "cell_type": "code",
   "execution_count": 9,
   "id": "d5d41187",
   "metadata": {
    "ExecuteTime": {
     "end_time": "2023-09-25T11:53:51.335857Z",
     "start_time": "2023-09-25T11:53:51.331837Z"
    }
   },
   "outputs": [],
   "source": [
    "grp=[]\n",
    "grp=[elem.split(',') for elem in txt.split('\\n')]"
   ]
  },
  {
   "cell_type": "code",
   "execution_count": 36,
   "id": "c5655496",
   "metadata": {
    "ExecuteTime": {
     "end_time": "2023-09-25T12:09:22.556750Z",
     "start_time": "2023-09-25T12:09:22.551134Z"
    }
   },
   "outputs": [
    {
     "data": {
      "text/plain": [
       "['Book Title', 'Quantity', 'Unit Price']"
      ]
     },
     "execution_count": 36,
     "metadata": {},
     "output_type": "execute_result"
    }
   ],
   "source": [
    "grp[]"
   ]
  },
  {
   "cell_type": "code",
   "execution_count": 64,
   "id": "d8539dee",
   "metadata": {
    "ExecuteTime": {
     "end_time": "2023-09-25T12:15:13.154770Z",
     "start_time": "2023-09-25T12:15:13.151144Z"
    }
   },
   "outputs": [],
   "source": [
    "grp_t_p = []\n",
    "grp_t_p= [line[:-1] for line in grp[1:]]\n"
   ]
  },
  {
   "cell_type": "code",
   "execution_count": 66,
   "id": "4f845b22",
   "metadata": {
    "ExecuteTime": {
     "end_time": "2023-09-25T12:15:16.466791Z",
     "start_time": "2023-09-25T12:15:16.459426Z"
    }
   },
   "outputs": [
    {
     "data": {
      "text/plain": [
       "[['The Great Gatsby', '50'],\n",
       " ['To Kill a Mockingbird', '30'],\n",
       " ['1984', '25'],\n",
       " ['Pride and Prejudice', '40'],\n",
       " ['Lord of the Rings', '20'],\n",
       " ['The Odyssey', '60'],\n",
       " ['The Catcher in the Rye', '35'],\n",
       " ['Brave New World', '28'],\n",
       " ['Fahrenheit', '51', '22'],\n",
       " ['The Hobbit', '45'],\n",
       " ['Animal Farm', '30'],\n",
       " ['Jane Eyre', '27'],\n",
       " ['Wuthering Heights', '18'],\n",
       " ['Moby Dick', '16'],\n",
       " ['The Adventures of Huckleberry Finn', '33'],\n",
       " ['The Grapes of Wrath', '29'],\n",
       " ['Frankenstein', '21'],\n",
       " ['The Picture of Dorian Gray', '17'],\n",
       " ['The Count of Monte Cristo', '40'],\n",
       " ['War and Peace', '50'],\n",
       " ['Dracula', '25'],\n",
       " ['Alice in Wonderland', '36'],\n",
       " ['The Scarlet Letter', '19'],\n",
       " ['What the Day Owes the Night', '15'],\n",
       " ['The Allegory of the Cave', '8'],\n",
       " ['To the Lighthouse', '32'],\n",
       " ['The Sun Also Rises', '23'],\n",
       " ['Crime and Punishment', '28'],\n",
       " ['Heart of Darkness', '19'],\n",
       " ['One Hundred Years of Solitude', '42'],\n",
       " ['The Brothers Karamazov', '27'],\n",
       " ['Catch', '22', '31'],\n",
       " ['The Old Man and the Sea', '25'],\n",
       " ['Ulysses', '18'],\n",
       " ['Pachinko', '29'],\n",
       " ['The Kite Runner', '24'],\n",
       " ['The Alchemist', '35'],\n",
       " ['Les Misérables', '37'],\n",
       " ['Anna Karenina', '26'],\n",
       " ['Great Expectations', '33']]"
      ]
     },
     "execution_count": 66,
     "metadata": {},
     "output_type": "execute_result"
    }
   ],
   "source": [
    "grp_t_p"
   ]
  },
  {
   "cell_type": "code",
   "execution_count": 3,
   "id": "5870e179",
   "metadata": {
    "ExecuteTime": {
     "end_time": "2023-09-25T11:51:02.426695Z",
     "start_time": "2023-09-25T11:51:02.421890Z"
    }
   },
   "outputs": [
    {
     "data": {
      "text/plain": [
       "'Book Title,Quantity,Unit Price\\nThe Great Gatsby,50,10.99\\nTo Kill a Mockingbird,30,8.75\\n1984,25,7.50\\nPride and Prejudice,40,9.25\\nLord of the Rings,20,12.00\\nThe Odyssey,60,11.50\\nThe Catcher in the Rye,35,8.99\\nBrave New World,28,7.75\\nFahrenheit,51,22,9.50\\nThe Hobbit,45,10.25\\nAnimal Farm,30,7.75\\nJane Eyre,27,8.50\\nWuthering Heights,18,7.25\\nMoby Dick,16,12.99\\nThe Adventures of Huckleberry Finn,33,9.75\\nThe Grapes of Wrath,29,8.50\\nFrankenstein,21,7.99\\nThe Picture of Dorian Gray,17,10.50\\nThe Count of Monte Cristo,40,11.25\\nWar and Peace,50,9.99\\nDracula,25,8.25\\nAlice in Wonderland,36,7.75\\nThe Scarlet Letter,19,9.00\\nWhat the Day Owes the Night,15,12.39\\nThe Allegory of the Cave,8,5.95\\nTo the Lighthouse,32,8.99\\nThe Sun Also Rises,23,7.50\\nCrime and Punishment,28,9.25\\nHeart of Darkness,19,12.00\\nOne Hundred Years of Solitude,42,11.50\\nThe Brothers Karamazov,27,8.99\\nCatch,22,31,7.75\\nThe Old Man and the Sea,25,9.50\\nUlysses,18,10.25\\nPachinko,29,7.75\\nThe Kite Runner,24,8.50\\nThe Alchemist,35,7.25\\nLes Misérables,37,10.75\\nAnna Karenina,26,8.25\\nGreat Expectations,33,9.00'"
      ]
     },
     "execution_count": 3,
     "metadata": {},
     "output_type": "execute_result"
    }
   ],
   "source": [
    "txt"
   ]
  },
  {
   "cell_type": "code",
   "execution_count": null,
   "id": "4a967513",
   "metadata": {},
   "outputs": [],
   "source": []
  },
  {
   "cell_type": "code",
   "execution_count": null,
   "id": "9afe70ac",
   "metadata": {},
   "outputs": [],
   "source": []
  },
  {
   "cell_type": "code",
   "execution_count": 99,
   "id": "4d09eb27",
   "metadata": {
    "ExecuteTime": {
     "end_time": "2023-09-25T12:24:57.935174Z",
     "start_time": "2023-09-25T12:24:57.931462Z"
    }
   },
   "outputs": [],
   "source": [
    "current_txt = \"\"\"\n",
    "Book Title,Quantity,Unit Price\n",
    "The Picture of Dorian Gray,6,10.50\n",
    "The Count of Monte Cristo,5,11.25\n",
    "Moby Dick,20,12.99\n",
    "The Odyssey,1,11.50\n",
    "War and Peace,10,9.99\n",
    "Dracula,3,8.25\n",
    "The Great Gatsby,0,10.99\n",
    "To Kill a Mockingbird,0,8.75\n",
    "1984,9,7.50\n",
    "The Sun Also Rises,2,7.50\n",
    "Crime and Punishment,8,9.25\n",
    "Heart of Darkness,1,12.00\n",
    "One Hundred Years of Solitude,12,11.50\n",
    "The Brothers Karamazov,7,8.99\n",
    "\"\"\""
   ]
  },
  {
   "cell_type": "code",
   "execution_count": 105,
   "id": "8729ea1a",
   "metadata": {
    "ExecuteTime": {
     "end_time": "2023-09-25T12:25:19.819339Z",
     "start_time": "2023-09-25T12:25:19.815289Z"
    }
   },
   "outputs": [],
   "source": [
    "current_grp = [elem.split(',') for elem in current_txt.split('\\n')]\n",
    "\n",
    "\n",
    "current_txt_titles = [line[0] for line in current_grp[2:][:-1]]"
   ]
  },
  {
   "cell_type": "code",
   "execution_count": 107,
   "id": "3d99942c",
   "metadata": {
    "ExecuteTime": {
     "end_time": "2023-09-25T12:25:25.431378Z",
     "start_time": "2023-09-25T12:25:25.426992Z"
    }
   },
   "outputs": [
    {
     "data": {
      "text/plain": [
       "['The Picture of Dorian Gray',\n",
       " 'The Count of Monte Cristo',\n",
       " 'Moby Dick',\n",
       " 'The Odyssey',\n",
       " 'War and Peace',\n",
       " 'Dracula',\n",
       " 'The Great Gatsby',\n",
       " 'To Kill a Mockingbird',\n",
       " '1984',\n",
       " 'The Sun Also Rises',\n",
       " 'Crime and Punishment',\n",
       " 'Heart of Darkness',\n",
       " 'One Hundred Years of Solitude',\n",
       " 'The Brothers Karamazov']"
      ]
     },
     "execution_count": 107,
     "metadata": {},
     "output_type": "execute_result"
    }
   ],
   "source": [
    "current_txt_titles"
   ]
  },
  {
   "cell_type": "code",
   "execution_count": null,
   "id": "519b04e8",
   "metadata": {},
   "outputs": [],
   "source": []
  },
  {
   "cell_type": "code",
   "execution_count": 118,
   "id": "939bf1c9",
   "metadata": {
    "ExecuteTime": {
     "end_time": "2023-09-25T12:27:46.043000Z",
     "start_time": "2023-09-25T12:27:46.037916Z"
    }
   },
   "outputs": [
    {
     "data": {
      "text/plain": [
       "['The Great Gatsby', '50']"
      ]
     },
     "execution_count": 118,
     "metadata": {},
     "output_type": "execute_result"
    }
   ],
   "source": [
    "grp_t_p[0]"
   ]
  },
  {
   "cell_type": "code",
   "execution_count": 142,
   "id": "43889870",
   "metadata": {
    "ExecuteTime": {
     "end_time": "2023-09-25T12:34:09.947841Z",
     "start_time": "2023-09-25T12:34:09.936141Z"
    }
   },
   "outputs": [
    {
     "name": "stdout",
     "output_type": "stream",
     "text": [
      "The Great Gatsby\n",
      "To Kill a Mockingbird\n",
      "1984\n",
      "Pride and Prejudice\n",
      "Lord of the Rings\n",
      "The Odyssey\n",
      "The Catcher in the Rye\n",
      "Brave New World\n",
      "Fahrenheit\n",
      "The Hobbit\n",
      "Animal Farm\n",
      "Jane Eyre\n",
      "Wuthering Heights\n",
      "Moby Dick\n",
      "The Adventures of Huckleberry Finn\n",
      "The Grapes of Wrath\n",
      "Frankenstein\n",
      "The Picture of Dorian Gray\n",
      "The Count of Monte Cristo\n",
      "War and Peace\n",
      "Dracula\n",
      "Alice in Wonderland\n",
      "The Scarlet Letter\n",
      "What the Day Owes the Night\n",
      "The Allegory of the Cave\n",
      "To the Lighthouse\n",
      "The Sun Also Rises\n",
      "Crime and Punishment\n",
      "Heart of Darkness\n",
      "One Hundred Years of Solitude\n",
      "The Brothers Karamazov\n",
      "Catch\n",
      "The Old Man and the Sea\n",
      "Ulysses\n",
      "Pachinko\n",
      "The Kite Runner\n",
      "The Alchemist\n",
      "Les Misérables\n",
      "Anna Karenina\n",
      "Great Expectations\n"
     ]
    }
   ],
   "source": [
    "len(grp_t_p)\n",
    "for i in grp_t_p :\n",
    "    print(i[0])\n"
   ]
  },
  {
   "cell_type": "code",
   "execution_count": 145,
   "id": "7b806408",
   "metadata": {
    "ExecuteTime": {
     "end_time": "2023-09-25T12:35:01.411533Z",
     "start_time": "2023-09-25T12:35:01.407826Z"
    }
   },
   "outputs": [],
   "source": [
    "# txt_titles = []\n",
    "# for i in grp_t_p :\n",
    "#     print(i[0])\n",
    "#     txt_titles += i[0]\n",
    "txt_titles = [i[0] for i in grp_t_p]"
   ]
  },
  {
   "cell_type": "code",
   "execution_count": 185,
   "id": "e501483a",
   "metadata": {
    "ExecuteTime": {
     "end_time": "2023-09-25T12:46:41.243344Z",
     "start_time": "2023-09-25T12:46:41.238163Z"
    },
    "scrolled": true
   },
   "outputs": [
    {
     "data": {
      "text/plain": [
       "['The Great Gatsby',\n",
       " 'To Kill a Mockingbird',\n",
       " '1984',\n",
       " 'Pride and Prejudice',\n",
       " 'Lord of the Rings',\n",
       " 'The Odyssey',\n",
       " 'The Catcher in the Rye',\n",
       " 'Brave New World',\n",
       " 'Fahrenheit',\n",
       " 'The Hobbit',\n",
       " 'Animal Farm',\n",
       " 'Jane Eyre',\n",
       " 'Wuthering Heights',\n",
       " 'Moby Dick',\n",
       " 'The Adventures of Huckleberry Finn',\n",
       " 'The Grapes of Wrath',\n",
       " 'Frankenstein',\n",
       " 'The Picture of Dorian Gray',\n",
       " 'The Count of Monte Cristo',\n",
       " 'War and Peace',\n",
       " 'Dracula',\n",
       " 'Alice in Wonderland',\n",
       " 'The Scarlet Letter',\n",
       " 'What the Day Owes the Night',\n",
       " 'The Allegory of the Cave',\n",
       " 'To the Lighthouse',\n",
       " 'The Sun Also Rises',\n",
       " 'Crime and Punishment',\n",
       " 'Heart of Darkness',\n",
       " 'One Hundred Years of Solitude',\n",
       " 'The Brothers Karamazov',\n",
       " 'Catch',\n",
       " 'The Old Man and the Sea',\n",
       " 'Ulysses',\n",
       " 'Pachinko',\n",
       " 'The Kite Runner',\n",
       " 'The Alchemist',\n",
       " 'Les Misérables',\n",
       " 'Anna Karenina',\n",
       " 'Great Expectations']"
      ]
     },
     "execution_count": 185,
     "metadata": {},
     "output_type": "execute_result"
    }
   ],
   "source": [
    "txt_titles"
   ]
  },
  {
   "cell_type": "code",
   "execution_count": 196,
   "id": "c204184d",
   "metadata": {
    "ExecuteTime": {
     "end_time": "2023-09-25T12:48:46.203228Z",
     "start_time": "2023-09-25T12:48:46.195262Z"
    },
    "scrolled": true
   },
   "outputs": [
    {
     "name": "stdout",
     "output_type": "stream",
     "text": [
      "The Great Gatsby\n",
      "To Kill a Mockingbird\n",
      "1984\n",
      "The Odyssey\n",
      "Moby Dick\n",
      "The Picture of Dorian Gray\n",
      "The Count of Monte Cristo\n",
      "War and Peace\n",
      "Dracula\n",
      "The Sun Also Rises\n",
      "Crime and Punishment\n",
      "Heart of Darkness\n",
      "One Hundred Years of Solitude\n",
      "The Brothers Karamazov\n"
     ]
    }
   ],
   "source": [
    "titles_in_stock=[]\n",
    "for title in txt_titles :\n",
    "    if title in current_txt_titles :\n",
    "         print(title)\n",
    "         titles_in_stock.append(title)\n"
   ]
  },
  {
   "cell_type": "code",
   "execution_count": 197,
   "id": "b2bfa0cd",
   "metadata": {
    "ExecuteTime": {
     "end_time": "2023-09-25T12:49:28.044611Z",
     "start_time": "2023-09-25T12:49:28.039229Z"
    }
   },
   "outputs": [
    {
     "data": {
      "text/plain": [
       "['The Great Gatsby',\n",
       " 'To Kill a Mockingbird',\n",
       " '1984',\n",
       " 'The Odyssey',\n",
       " 'Moby Dick',\n",
       " 'The Picture of Dorian Gray',\n",
       " 'The Count of Monte Cristo',\n",
       " 'War and Peace',\n",
       " 'Dracula',\n",
       " 'The Sun Also Rises',\n",
       " 'Crime and Punishment',\n",
       " 'Heart of Darkness',\n",
       " 'One Hundred Years of Solitude',\n",
       " 'The Brothers Karamazov']"
      ]
     },
     "execution_count": 197,
     "metadata": {},
     "output_type": "execute_result"
    }
   ],
   "source": [
    "titles_in_stock"
   ]
  },
  {
   "cell_type": "code",
   "execution_count": 190,
   "id": "5acc3293",
   "metadata": {
    "ExecuteTime": {
     "end_time": "2023-09-25T12:46:53.857865Z",
     "start_time": "2023-09-25T12:46:53.854548Z"
    }
   },
   "outputs": [],
   "source": [
    "# txt_titles[4] in current_txt_titles"
   ]
  },
  {
   "cell_type": "code",
   "execution_count": null,
   "id": "03f69c8e",
   "metadata": {},
   "outputs": [],
   "source": []
  },
  {
   "cell_type": "code",
   "execution_count": null,
   "id": "eb4cac45",
   "metadata": {},
   "outputs": [],
   "source": []
  },
  {
   "cell_type": "code",
   "execution_count": null,
   "id": "93a0562c",
   "metadata": {},
   "outputs": [],
   "source": []
  },
  {
   "cell_type": "code",
   "execution_count": null,
   "id": "5611b1f2",
   "metadata": {},
   "outputs": [],
   "source": []
  },
  {
   "cell_type": "code",
   "execution_count": null,
   "id": "b573253d",
   "metadata": {},
   "outputs": [],
   "source": []
  },
  {
   "cell_type": "code",
   "execution_count": null,
   "id": "c35d632d",
   "metadata": {},
   "outputs": [],
   "source": []
  },
  {
   "cell_type": "code",
   "execution_count": null,
   "id": "b8eb0e2e",
   "metadata": {},
   "outputs": [],
   "source": []
  },
  {
   "cell_type": "code",
   "execution_count": null,
   "id": "124dda60",
   "metadata": {},
   "outputs": [],
   "source": []
  },
  {
   "cell_type": "code",
   "execution_count": null,
   "id": "7eb56dc3",
   "metadata": {},
   "outputs": [],
   "source": []
  },
  {
   "cell_type": "code",
   "execution_count": null,
   "id": "c746c103",
   "metadata": {},
   "outputs": [],
   "source": []
  },
  {
   "cell_type": "code",
   "execution_count": null,
   "id": "7fc48d30",
   "metadata": {},
   "outputs": [],
   "source": []
  },
  {
   "cell_type": "code",
   "execution_count": 210,
   "id": "576cd8aa",
   "metadata": {
    "ExecuteTime": {
     "end_time": "2023-09-25T13:22:21.077822Z",
     "start_time": "2023-09-25T13:22:21.071751Z"
    }
   },
   "outputs": [],
   "source": []
  },
  {
   "cell_type": "code",
   "execution_count": 211,
   "id": "9837ac98",
   "metadata": {
    "ExecuteTime": {
     "end_time": "2023-09-25T13:22:26.571361Z",
     "start_time": "2023-09-25T13:22:26.566281Z"
    }
   },
   "outputs": [
    {
     "data": {
      "text/plain": [
       "'txt=\"\"\"\\nBook Title,Quantity,Unit Price\\nThe Great Gatsby,50,10.99\\nTo Kill a Mockingbird,30,8.75\\n1984,25,7.50\\nPride and Prejudice,40,9.25\\nLord of the Rings,20,12.00\\nThe Odyssey,60,11.50\\nThe Catcher in the Rye,35,8.99\\nBrave New World,28,7.75\\nFahrenheit,51,22,9.50\\nThe Hobbit,45,10.25\\nAnimal Farm,30,7.75\\nJane Eyre,27,8.50\\nWuthering Heights,18,7.25\\nMoby Dick,16,12.99\\nThe Adventures of Huckleberry Finn,33,9.75\\nThe Grapes of Wrath,29,8.50\\nFrankenstein,21,7.99\\nThe Picture of Dorian Gray,17,10.50\\nThe Count of Monte Cristo,40,11.25\\nWar and Peace,50,9.99\\nDracula,25,8.25\\nAlice in Wonderland,36,7.75\\nThe Scarlet Letter,19,9.00\\nWhat the Day Owes the Night,15,12.39\\nThe Allegory of the Cave,8,5.95\\nTo the Lighthouse,32,8.99\\nThe Sun Also Rises,23,7.50\\nCrime and Punishment,28,9.25\\nHeart of Darkness,19,12.00\\nOne Hundred Years of Solitude,42,11.50\\nThe Brothers Karamazov,27,8.99\\nCatch,22,31,7.75\\nThe Old Man and the Sea,25,9.50\\nUlysses,18,10.25\\nPachinko,29,7.75\\nThe Kite Runner,24,8.50\\nThe Alchemist,35,7.25\\nLes Misérables,37,10.75\\nAnna Karenina,26,8.25\\nGreat Expectations,33,9.00\"\"\"\\n\\n'"
      ]
     },
     "execution_count": 211,
     "metadata": {},
     "output_type": "execute_result"
    }
   ],
   "source": [
    "contents"
   ]
  },
  {
   "cell_type": "code",
   "execution_count": 198,
   "id": "c1f09eae",
   "metadata": {
    "ExecuteTime": {
     "end_time": "2023-09-25T12:54:35.887830Z",
     "start_time": "2023-09-25T12:54:35.884195Z"
    }
   },
   "outputs": [],
   "source": [
    "txt=\"\"\"Book Title,Quantity,Unit Price\n",
    "The Great Gatsby,50,10.99\n",
    "To Kill a Mockingbird,30,8.75\n",
    "1984,25,7.50\n",
    "Pride and Prejudice,40,9.25\n",
    "Lord of the Rings,20,12.00\n",
    "The Odyssey,60,11.50\n",
    "The Catcher in the Rye,35,8.99\n",
    "Brave New World,28,7.75\n",
    "Fahrenheit,51,22,9.50\n",
    "The Hobbit,45,10.25\n",
    "Animal Farm,30,7.75\n",
    "Jane Eyre,27,8.50\n",
    "Wuthering Heights,18,7.25\n",
    "Moby Dick,16,12.99\n",
    "The Adventures of Huckleberry Finn,33,9.75\n",
    "The Grapes of Wrath,29,8.50\n",
    "Frankenstein,21,7.99\n",
    "The Picture of Dorian Gray,17,10.50\n",
    "The Count of Monte Cristo,40,11.25\n",
    "War and Peace,50,9.99\n",
    "Dracula,25,8.25\n",
    "Alice in Wonderland,36,7.75\n",
    "The Scarlet Letter,19,9.00\n",
    "What the Day Owes the Night,15,12.39\n",
    "The Allegory of the Cave,8,5.95\n",
    "To the Lighthouse,32,8.99\n",
    "The Sun Also Rises,23,7.50\n",
    "Crime and Punishment,28,9.25\n",
    "Heart of Darkness,19,12.00\n",
    "One Hundred Years of Solitude,42,11.50\n",
    "The Brothers Karamazov,27,8.99\n",
    "Catch,22,31,7.75\n",
    "The Old Man and the Sea,25,9.50\n",
    "Ulysses,18,10.25\n",
    "Pachinko,29,7.75\n",
    "The Kite Runner,24,8.50\n",
    "The Alchemist,35,7.25\n",
    "Les Misérables,37,10.75\n",
    "Anna Karenina,26,8.25\n",
    "Great Expectations,33,9.00\"\"\"\n"
   ]
  },
  {
   "cell_type": "code",
   "execution_count": 199,
   "id": "bcdc6f8b",
   "metadata": {
    "ExecuteTime": {
     "end_time": "2023-09-25T12:54:36.000096Z",
     "start_time": "2023-09-25T12:54:35.996760Z"
    }
   },
   "outputs": [],
   "source": [
    "current_txt = \"\"\"\n",
    "Book Title,Quantity,Unit Price\n",
    "The Picture of Dorian Gray,6,10.50\n",
    "The Count of Monte Cristo,5,11.25\n",
    "Moby Dick,20,12.99\n",
    "The Odyssey,1,11.50\n",
    "War and Peace,10,9.99\n",
    "Dracula,3,8.25\n",
    "The Great Gatsby,0,10.99\n",
    "To Kill a Mockingbird,0,8.75\n",
    "1984,9,7.50\n",
    "The Sun Also Rises,2,7.50\n",
    "Crime and Punishment,8,9.25\n",
    "Heart of Darkness,1,12.00\n",
    "One Hundred Years of Solitude,12,11.50\n",
    "The Brothers Karamazov,7,8.99\n",
    "\"\"\"\n"
   ]
  },
  {
   "cell_type": "code",
   "execution_count": 215,
   "id": "ef4c7ce7",
   "metadata": {
    "ExecuteTime": {
     "end_time": "2023-09-25T13:33:49.305648Z",
     "start_time": "2023-09-25T13:33:49.295310Z"
    }
   },
   "outputs": [
    {
     "ename": "ModuleNotFoundError",
     "evalue": "No module named 't'",
     "output_type": "error",
     "traceback": [
      "\u001b[0;31m---------------------------------------------------------------------------\u001b[0m",
      "\u001b[0;31mModuleNotFoundError\u001b[0m                       Traceback (most recent call last)",
      "\u001b[0;32m/tmp/ipykernel_19537/3679671726.py\u001b[0m in \u001b[0;36m<module>\u001b[0;34m\u001b[0m\n\u001b[0;32m----> 1\u001b[0;31m \u001b[0;32mimport\u001b[0m \u001b[0mt\u001b[0m\u001b[0;34m\u001b[0m\u001b[0;34m\u001b[0m\u001b[0m\n\u001b[0m",
      "\u001b[0;31mModuleNotFoundError\u001b[0m: No module named 't'"
     ]
    }
   ],
   "source": [
    "import t"
   ]
  },
  {
   "cell_type": "code",
   "execution_count": 228,
   "id": "0b8f8130",
   "metadata": {
    "ExecuteTime": {
     "end_time": "2023-09-25T13:47:36.743522Z",
     "start_time": "2023-09-25T13:47:36.734380Z"
    }
   },
   "outputs": [],
   "source": [
    "with open(\"inventory.txt\", \"r\") as file:\n",
    "    txt = file.read()\n",
    "\n",
    "\n",
    "with open(\"current_inventory.txt\", \"r\") as file:\n",
    "    current_txt = file.read()    \n",
    "    \n",
    "grp=[]\n",
    "grp=[elem.split(',') for elem in txt.split('\\n')]\n",
    "\n",
    "grp_t_p = []\n",
    "grp_t_p= [line[:-1] for line in grp[1:]][:-1]\n",
    "\n",
    "\n",
    "\n",
    "current_grp = [elem.split(',') for elem in current_txt.split('\\n')][:-2]\n",
    "current_grp\n",
    "\n",
    "current_txt_titles = [line[0] for line in current_grp[2:][:-1]]\n",
    "\n",
    "\n",
    "txt_titles = [i[0] for i in grp_t_p]\n",
    "\n",
    "titles_in_stock=[]\n",
    "titles_not_in_stock=[]\n",
    "for title in txt_titles :\n",
    "    if title in current_txt_titles :\n",
    "         titles_in_stock.append(title)\n",
    "    else :\n",
    "        titles_not_in_stock.append(title)\n",
    "\n",
    "\n",
    "# print(titles_in_stock)\n",
    "# print(titles_not_in_stock)\n"
   ]
  },
  {
   "cell_type": "code",
   "execution_count": 229,
   "id": "2456bfee",
   "metadata": {
    "ExecuteTime": {
     "end_time": "2023-09-25T13:47:36.940034Z",
     "start_time": "2023-09-25T13:47:36.933881Z"
    }
   },
   "outputs": [
    {
     "data": {
      "text/plain": [
       "['Pride and Prejudice',\n",
       " 'Lord of the Rings',\n",
       " 'The Catcher in the Rye',\n",
       " 'Brave New World',\n",
       " 'Fahrenheit',\n",
       " 'The Hobbit',\n",
       " 'Animal Farm',\n",
       " 'Jane Eyre',\n",
       " 'Wuthering Heights',\n",
       " 'The Adventures of Huckleberry Finn',\n",
       " 'The Grapes of Wrath',\n",
       " 'Frankenstein',\n",
       " 'The Picture of Dorian Gray',\n",
       " 'Alice in Wonderland',\n",
       " 'The Scarlet Letter',\n",
       " 'What the Day Owes the Night',\n",
       " 'The Allegory of the Cave',\n",
       " 'To the Lighthouse',\n",
       " 'Catch',\n",
       " 'The Old Man and the Sea',\n",
       " 'Ulysses',\n",
       " 'Pachinko',\n",
       " 'The Kite Runner',\n",
       " 'The Alchemist',\n",
       " 'Les Misérables',\n",
       " 'Anna Karenina',\n",
       " 'Great Expectations']"
      ]
     },
     "execution_count": 229,
     "metadata": {},
     "output_type": "execute_result"
    }
   ],
   "source": [
    "titles_not_in_stock"
   ]
  },
  {
   "cell_type": "code",
   "execution_count": null,
   "id": "7360960a",
   "metadata": {},
   "outputs": [],
   "source": []
  }
 ],
 "metadata": {
  "kernelspec": {
   "display_name": "Python 3 (ipykernel)",
   "language": "python",
   "name": "python3"
  },
  "language_info": {
   "codemirror_mode": {
    "name": "ipython",
    "version": 3
   },
   "file_extension": ".py",
   "mimetype": "text/x-python",
   "name": "python",
   "nbconvert_exporter": "python",
   "pygments_lexer": "ipython3",
   "version": "3.8.12"
  },
  "toc": {
   "base_numbering": 1,
   "nav_menu": {},
   "number_sections": true,
   "sideBar": true,
   "skip_h1_title": false,
   "title_cell": "Table of Contents",
   "title_sidebar": "Contents",
   "toc_cell": false,
   "toc_position": {},
   "toc_section_display": true,
   "toc_window_display": false
  }
 },
 "nbformat": 4,
 "nbformat_minor": 5
}

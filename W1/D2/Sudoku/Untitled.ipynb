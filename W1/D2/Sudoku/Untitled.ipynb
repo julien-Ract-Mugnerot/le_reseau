{
 "cells": [
  {
   "cell_type": "code",
   "execution_count": 10,
   "id": "0d0a43a9",
   "metadata": {
    "ExecuteTime": {
     "end_time": "2023-09-26T13:22:26.548392Z",
     "start_time": "2023-09-26T13:22:26.544980Z"
    }
   },
   "outputs": [],
   "source": [
    "import regex as re\n",
    "import numpy as np"
   ]
  },
  {
   "cell_type": "code",
   "execution_count": 2,
   "id": "91df9a02",
   "metadata": {},
   "outputs": [
    {
     "data": {
      "text/plain": [
       "[['a', 'f', 'k'],\n",
       " [' b', 'g', 'l'],\n",
       " ['c', 'h', 'm'],\n",
       " ['d', 'i', ' o'],\n",
       " ['e', 'j', 'p']]"
      ]
     },
     "execution_count": 2,
     "metadata": {},
     "output_type": "execute_result"
    }
   ],
   "source": [
    "rev = [['a',' b', 'c', 'd', 'e'],\n",
    "        ['f', 'g','h', 'i', 'j'],\n",
    "        ['k', 'l', 'm',' o', 'p']]\n",
    "\n",
    "[list(tup) for tup in zip(*rev)]"
   ]
  },
  {
   "cell_type": "code",
   "execution_count": null,
   "id": "44f83371",
   "metadata": {},
   "outputs": [],
   "source": []
  },
  {
   "cell_type": "code",
   "execution_count": 3,
   "id": "1eaa9771",
   "metadata": {
    "ExecuteTime": {
     "end_time": "2023-09-26T13:47:35.073975Z",
     "start_time": "2023-09-26T13:47:35.068381Z"
    }
   },
   "outputs": [],
   "source": [
    "class Sudoku:\n",
    "    def __init__(self, grid, difficulty=0):\n",
    "        self.starting_grid = grid.split('\\n')\n",
    "        self.grid=[]\n",
    "        self.grid.append(re.sub(line,'_', '0') for line in self.starting_grid)\n",
    "#         self.starting_grid = [re.sub(line,'_', '0') for line in grid.split(']\n",
    "        self.difficulty = difficulty\n",
    "\n",
    "    \n",
    "    def backtracking(self):\n",
    "        return\n",
    "    \n",
    "    \n",
    "    \n",
    "    def brute_force(self):\n",
    "#         self.grid=self.starting_grid\n",
    "        return\n",
    "    \n",
    "    \n",
    "    def validity_check(self):\n",
    "        #check_lines(self)\n",
    "        #check_squares(self)         \n",
    "        \n",
    "        \n",
    "        \n",
    "        return \n",
    "    \n",
    "    \n",
    "\n"
   ]
  },
  {
   "cell_type": "code",
   "execution_count": 15,
   "id": "427a9720",
   "metadata": {
    "ExecuteTime": {
     "end_time": "2023-09-26T13:47:52.412773Z",
     "start_time": "2023-09-26T13:47:52.407611Z"
    }
   },
   "outputs": [
    {
     "data": {
      "text/plain": [
       "<generator object Sudoku.__init__.<locals>.<genexpr> at 0x7f369b6a9ba0>"
      ]
     },
     "execution_count": 15,
     "metadata": {},
     "output_type": "execute_result"
    }
   ],
   "source": [
    "grid1 = Sudoku('''_729___3_\n",
    "__1__6_8_\n",
    "____4__6_\n",
    "96___41_8\n",
    "_487_5_96\n",
    "__56_8__3\n",
    "___4_2_1_\n",
    "85__6_327\n",
    "1__85____''')\n",
    "grid1.grid[0]"
   ]
  },
  {
   "cell_type": "code",
   "execution_count": 16,
   "id": "02e95e9b",
   "metadata": {
    "ExecuteTime": {
     "end_time": "2023-09-26T13:47:41.473120Z",
     "start_time": "2023-09-26T13:47:41.468001Z"
    }
   },
   "outputs": [
    {
     "data": {
      "text/plain": [
       "['_729___3_',\n",
       " '__1__6_8_',\n",
       " '____4__6_',\n",
       " '96___41_8',\n",
       " '_487_5_96',\n",
       " '__56_8__3',\n",
       " '___4_2_1_',\n",
       " '85__6_327',\n",
       " '1__85____']"
      ]
     },
     "execution_count": 16,
     "metadata": {},
     "output_type": "execute_result"
    }
   ],
   "source": [
    "grid1.starting_grid"
   ]
  },
  {
   "cell_type": "code",
   "execution_count": 17,
   "id": "1fc14e32",
   "metadata": {
    "ExecuteTime": {
     "end_time": "2023-09-26T13:51:27.395822Z",
     "start_time": "2023-09-26T13:51:27.389161Z"
    }
   },
   "outputs": [
    {
     "data": {
      "text/plain": [
       "'0fae0feaf0ea0f'"
      ]
     },
     "execution_count": 17,
     "metadata": {},
     "output_type": "execute_result"
    }
   ],
   "source": [
    "re.sub('_', '0', '0fae_feaf_ea_f')"
   ]
  },
  {
   "cell_type": "code",
   "execution_count": 23,
   "id": "28a2ad5a",
   "metadata": {},
   "outputs": [],
   "source": [
    "testgrid = ['1_23_123__',' __259___', 'c', 'd', 'e']\n",
    "\n",
    "\n",
    "\n",
    "griii = []\n",
    "\n",
    "for line in testgrid :\n",
    "    griii.append(re.sub('_', '0', line))"
   ]
  },
  {
   "cell_type": "code",
   "execution_count": 24,
   "id": "803e8b21",
   "metadata": {},
   "outputs": [
    {
     "data": {
      "text/plain": [
       "['1023012300', ' 00259000', 'c', 'd', 'e']"
      ]
     },
     "execution_count": 24,
     "metadata": {},
     "output_type": "execute_result"
    }
   ],
   "source": [
    "griii"
   ]
  },
  {
   "cell_type": "code",
   "execution_count": null,
   "id": "464f8cf0",
   "metadata": {},
   "outputs": [],
   "source": []
  },
  {
   "cell_type": "code",
   "execution_count": null,
   "id": "54706e44",
   "metadata": {},
   "outputs": [],
   "source": []
  },
  {
   "cell_type": "code",
   "execution_count": null,
   "id": "27d91e1a",
   "metadata": {},
   "outputs": [],
   "source": []
  },
  {
   "cell_type": "code",
   "execution_count": 6,
   "id": "5cca343e",
   "metadata": {
    "ExecuteTime": {
     "end_time": "2023-09-26T17:07:22.498871Z",
     "start_time": "2023-09-26T17:07:22.489227Z"
    }
   },
   "outputs": [
    {
     "name": "stdout",
     "output_type": "stream",
     "text": [
      "here we are\n"
     ]
    },
    {
     "data": {
      "text/plain": [
       "matrix([['0', '7', '2', '9', '0', '0', '0', '3', '0'],\n",
       "        ['0', '0', '1', '0', '0', '6', '0', '8', '0'],\n",
       "        ['0', '0', '0', '0', '4', '0', '0', '6', '0'],\n",
       "        ['9', '6', '0', '0', '0', '4', '1', '0', '8'],\n",
       "        ['0', '4', '8', '7', '0', '5', '0', '9', '6'],\n",
       "        ['0', '0', '5', '6', '0', '8', '0', '0', '3'],\n",
       "        ['0', '0', '0', '4', '0', '2', '0', '1', '0'],\n",
       "        ['8', '5', '0', '0', '6', '0', '3', '2', '7'],\n",
       "        ['1', '0', '0', '8', '5', '0', '0', '0', '0']], dtype='<U1')"
      ]
     },
     "execution_count": 6,
     "metadata": {},
     "output_type": "execute_result"
    }
   ],
   "source": [
    "import regex as re\n",
    "import numpy as np\n",
    "\n",
    "\n",
    "class Sudoku:\n",
    "    def __init__(self, grid, difficulty=0):\n",
    "        self.starting_grid = grid.split('\\n')\n",
    "        self.grid=[]\n",
    "        print(\"here we are\")\n",
    "        for line in self.starting_grid :\n",
    "            self.grid.append(list(re.sub('_', '0', line)))\n",
    "        #self.starting_grid = [re.sub(line,'_', '0') for line in grid.split(']\n",
    "        self.difficulty = difficulty\n",
    "\n",
    "\n",
    "    def backtracking(self):\n",
    "\n",
    "        pass\n",
    "\n",
    "\n",
    "    def brute_force(self):\n",
    "        #         self.grid=self.starting_grid\n",
    "        while True :\n",
    "            # if validity_check(self) :\n",
    "            #     return(resolved(self))\n",
    "            # else :\n",
    "\n",
    "            PASS\n",
    "\n",
    "\n",
    "            #     break\n",
    "    def resolved(self):\n",
    "        print(\"Congrats\")\n",
    "        return self.grid\n",
    "        # may add numbers of tries or time spent\n",
    "\n",
    "# if __name__ == \"__main__\":\n",
    "#     grid1 = Sudoku('''_729___3_\n",
    "#                     __1__6_8_\n",
    "#                     ____4__6_\n",
    "#                     96___41_8\n",
    "#                     _487_5_96\n",
    "#                     __56_8__3\n",
    "#                     ___4_2_1_\n",
    "#                     85__6_327\n",
    "#                     1__85____''')\n",
    "\n",
    "# print(\n",
    "#     np.matrix('''_729___3_,\n",
    "#                     __1__6_8_,\n",
    "#                     ____4__6_,\n",
    "#                     96___41_8,\n",
    "#                     _487_5_96,\n",
    "#                     __56_8__3,\n",
    "#                     ___4_2_1_,\n",
    "#                     85__6_327,\n",
    "#                     1__85____'''))\n",
    "grid_test = \"\"\"_729___3_\n",
    "__1__6_8_\n",
    "____4__6_\n",
    "96___41_8\n",
    "_487_5_96\n",
    "__56_8__3\n",
    "___4_2_1_\n",
    "85__6_327\n",
    "1__85____\"\"\"\n",
    "\n",
    "\n",
    "\n",
    "grid = Sudoku(grid_test)\n",
    "# print(np.eye(9))\n",
    "# print(np.matrix([[6,2,3], [8,4,7]]))\n",
    "\n",
    "np.matrix(grid.grid)\n"
   ]
  },
  {
   "cell_type": "code",
   "execution_count": 4,
   "id": "f9003fcb",
   "metadata": {},
   "outputs": [
    {
     "name": "stdout",
     "output_type": "stream",
     "text": [
      "[[0, 0, 9, 0, 8, 5, 0, 6, 3], [0, 7, 0, 9, 6, 0, 0, 0, 0], [5, 0, 1, 0, 0, 4, 0, 0, 0], [0, 0, 6, 7, 0, 3, 0, 0, 4], [0, 4, 0, 2, 1, 0, 3, 9, 0], [8, 0, 0, 0, 9, 0, 0, 5, 7], [9, 8, 4, 5, 0, 0, 6, 0, 0], [0, 0, 7, 6, 4, 9, 0, 3, 0], [6, 1, 0, 0, 2, 0, 0, 4, 0]]\n",
      "429185763\n",
      "378962415\n",
      "561374928\n",
      "196753284\n",
      "745218396\n",
      "832496157\n",
      "984531672\n",
      "257649831\n",
      "613827549\n"
     ]
    }
   ],
   "source": [
    "class SudokuSolver:\n",
    "    def __init__(self, grid):\n",
    "        self.grid = [[int(cell) if cell != \"_\" else 0 for cell in row]\n",
    "                     for row in grid.split(\"\\n\")]\n",
    "        print(self.grid)\n",
    "\n",
    "    def is_valid(self, row, col, num):\n",
    "        # Check if 'num' is not already present in the current row, column, or 3x3 subgrid\n",
    "        for i in range(9):\n",
    "            if self.grid[row][i] == num or self.grid[i][col] == num:\n",
    "                return False\n",
    "        start_row, start_col = 3 * (row // 3), 3 * (col // 3)\n",
    "        for i in range(3):\n",
    "            for j in range(3):\n",
    "                if self.grid[start_row + i][start_col + j] == num:\n",
    "                    return False\n",
    "        return True\n",
    "\n",
    "    def compleated(self):\n",
    "        # Implement your completion check logic here\n",
    "        pass\n",
    "\n",
    "    def fake_brute_force(self, x=0, y=0, n=1):\n",
    "        if y == 9:  # All rows have been processed, the puzzle is solved\n",
    "            return True\n",
    "        if self.grid[y][x] != 0:\n",
    "            # Cell is already filled, move to the next cell\n",
    "            if x == 8:\n",
    "                return self.fake_brute_force(0, y + 1)\n",
    "            else:\n",
    "                return self.fake_brute_force(x + 1, y)\n",
    "\n",
    "        for num in range(n, 10):\n",
    "            if self.is_valid(y, x, num):\n",
    "                self.grid[y][x] = num\n",
    "                if x == 8:\n",
    "                    if self.fake_brute_force(0, y + 1):\n",
    "                        return True\n",
    "                else:\n",
    "                    if self.fake_brute_force(x + 1, y):\n",
    "                        return True\n",
    "                self.grid[y][x] = 0  # Backtrack\n",
    "\n",
    "        return False  # No valid number found, trigger backtracking\n",
    "\n",
    "\n",
    "# Your Sudoku grid as a string\n",
    "grid = \"\"\"__9_85_63\n",
    "_7_96____\n",
    "5_1__4___\n",
    "__67_3__4\n",
    "_4_21_39_\n",
    "8___9__57\n",
    "9845__6__\n",
    "__7649_3_\n",
    "61__2__4_\"\"\"\n",
    "\n",
    "solver = SudokuSolver(grid)\n",
    "if solver.fake_brute_force():\n",
    "    for row in solver.grid:\n",
    "        print(\"\".join(map(str, row)).replace(\"0\", \"_\"))\n",
    "else:\n",
    "    print(\"No solution exists.\")\n"
   ]
  },
  {
   "cell_type": "code",
   "execution_count": 5,
   "id": "dd4de4e9",
   "metadata": {},
   "outputs": [
    {
     "ename": "AttributeError",
     "evalue": "'SudokuSolver' object has no attribute 'fake_brute_force'",
     "output_type": "error",
     "traceback": [
      "\u001b[0;31m---------------------------------------------------------------------------\u001b[0m",
      "\u001b[0;31mAttributeError\u001b[0m                            Traceback (most recent call last)",
      "\u001b[0;32m/tmp/ipykernel_29655/327831497.py\u001b[0m in \u001b[0;36m<module>\u001b[0;34m\u001b[0m\n\u001b[1;32m     36\u001b[0m \u001b[0;34m\u001b[0m\u001b[0m\n\u001b[1;32m     37\u001b[0m \u001b[0msolver\u001b[0m \u001b[0;34m=\u001b[0m \u001b[0mSudokuSolver\u001b[0m\u001b[0;34m(\u001b[0m\u001b[0mgrid\u001b[0m\u001b[0;34m)\u001b[0m\u001b[0;34m\u001b[0m\u001b[0;34m\u001b[0m\u001b[0m\n\u001b[0;32m---> 38\u001b[0;31m \u001b[0;32mif\u001b[0m \u001b[0msolver\u001b[0m\u001b[0;34m.\u001b[0m\u001b[0mfake_brute_force\u001b[0m\u001b[0;34m(\u001b[0m\u001b[0;34m)\u001b[0m\u001b[0;34m:\u001b[0m\u001b[0;34m\u001b[0m\u001b[0;34m\u001b[0m\u001b[0m\n\u001b[0m\u001b[1;32m     39\u001b[0m     \u001b[0msolver\u001b[0m\u001b[0;34m.\u001b[0m\u001b[0mdisplay_sudoku\u001b[0m\u001b[0;34m(\u001b[0m\u001b[0;34m)\u001b[0m\u001b[0;34m\u001b[0m\u001b[0;34m\u001b[0m\u001b[0m\n\u001b[1;32m     40\u001b[0m \u001b[0;32melse\u001b[0m\u001b[0;34m:\u001b[0m\u001b[0;34m\u001b[0m\u001b[0;34m\u001b[0m\u001b[0m\n",
      "\u001b[0;31mAttributeError\u001b[0m: 'SudokuSolver' object has no attribute 'fake_brute_force'"
     ]
    }
   ],
   "source": [
    "from colorama import Fore, Style, init\n",
    "\n",
    "# Initialize colorama\n",
    "init(autoreset=True)\n",
    "\n",
    "\n",
    "class SudokuSolver:\n",
    "    def __init__(self, grid):\n",
    "        self.grid = [[int(cell) if cell != \"_\" else 0 for cell in row]\n",
    "                     for row in grid.split(\"\\n\")]\n",
    "        self.original_numbers = [[cell != \"_\" for cell in row]\n",
    "                                 for row in grid.split(\"\\n\")]\n",
    "\n",
    "    # ... Rest of the code (is_valid, compleated, fake_brute_force)\n",
    "\n",
    "    def display_sudoku(self):\n",
    "        for i, row in enumerate(self.grid):\n",
    "            for j, num in enumerate(row):\n",
    "                if self.original_numbers[i][j]:\n",
    "                    print(Fore.RED + str(num) + Style.RESET_ALL, end=\" \")\n",
    "                else:\n",
    "                    print(Fore.WHITE + str(num) + Style.RESET_ALL, end=\" \")\n",
    "                if (j + 1) % 3 == 0 and j < 8:\n",
    "                    print(\"|\", end=\" \")\n",
    "            print()\n",
    "            if (i + 1) % 3 == 0 and i < 8:\n",
    "                print(\"-\" * 21)\n",
    "\n",
    "\n",
    "# Your Sudoku grid as a string\n",
    "grid = \"\"\"__9_85_63\n",
    "_7_96____\n",
    "5_1__4___\n",
    "__67_3__4\n",
    "_4_21_39_\n",
    "8___9__57\n",
    "9845__6__\n",
    "__7649_3_\n",
    "61__2__4_\"\"\"\n",
    "\n",
    "solver = SudokuSolver(grid)\n",
    "if solver.fake_brute_force():\n",
    "    solver.display_sudoku()\n",
    "else:\n",
    "    print(\"No solution exists.\")\n"
   ]
  },
  {
   "cell_type": "code",
   "execution_count": null,
   "id": "b02adb93",
   "metadata": {},
   "outputs": [],
   "source": []
  },
  {
   "cell_type": "code",
   "execution_count": null,
   "id": "7cb49b44",
   "metadata": {},
   "outputs": [],
   "source": []
  },
  {
   "cell_type": "code",
   "execution_count": 26,
   "id": "0772cc20",
   "metadata": {},
   "outputs": [
    {
     "name": "stdout",
     "output_type": "stream",
     "text": [
      "4\n",
      "f\n",
      "([1, 2, 3], [2, 4, 5], [3, 4, 5], [4, 4, 5])\n",
      "4\n",
      "f\n",
      "([1, 2, 3], [2, 4, 5], [3, 4, 5], [7, 5, 9, 1])\n",
      "4\n",
      "f\n",
      "([1, 2, 3], [2, 4, 5], [3, 4, 5], [7, 5, 9, 1])\n",
      "4\n",
      "f\n",
      "([1, 2, 3], [2, 4, 5], [7, 7, 8, 9], [4, 4, 5])\n",
      "4\n",
      "f\n",
      "([1, 2, 3], [2, 4, 5], [7, 7, 8, 9], [7, 5, 9, 1])\n",
      "4\n",
      "f\n",
      "([1, 2, 3], [2, 4, 5], [7, 7, 8, 9], [7, 5, 9, 1])\n",
      "4\n",
      "f\n",
      "([1, 2, 3], [2, 4, 5], [3, 1, 2, 3], [4, 4, 5])\n",
      "4\n",
      "f\n",
      "([1, 2, 3], [2, 4, 5], [3, 1, 2, 3], [7, 5, 9, 1])\n",
      "4\n",
      "f\n",
      "([1, 2, 3], [2, 4, 5], [3, 1, 2, 3], [7, 5, 9, 1])\n",
      "4\n",
      "f\n",
      "([1, 2, 3], [2, 6, 7, 8], [3, 4, 5], [4, 4, 5])\n",
      "4\n",
      "f\n",
      "([1, 2, 3], [2, 6, 7, 8], [3, 4, 5], [7, 5, 9, 1])\n",
      "4\n",
      "f\n",
      "([1, 2, 3], [2, 6, 7, 8], [3, 4, 5], [7, 5, 9, 1])\n",
      "4\n",
      "f\n",
      "([1, 2, 3], [2, 6, 7, 8], [7, 7, 8, 9], [4, 4, 5])\n",
      "4\n",
      "f\n",
      "([1, 2, 3], [2, 6, 7, 8], [7, 7, 8, 9], [7, 5, 9, 1])\n",
      "4\n",
      "f\n",
      "([1, 2, 3], [2, 6, 7, 8], [7, 7, 8, 9], [7, 5, 9, 1])\n",
      "4\n",
      "f\n",
      "([1, 2, 3], [2, 6, 7, 8], [3, 1, 2, 3], [4, 4, 5])\n",
      "4\n",
      "f\n",
      "([1, 2, 3], [2, 6, 7, 8], [3, 1, 2, 3], [7, 5, 9, 1])\n",
      "4\n",
      "f\n",
      "([1, 2, 3], [2, 6, 7, 8], [3, 1, 2, 3], [7, 5, 9, 1])\n",
      "4\n",
      "f\n",
      "([1, 2, 3], [3, 9, 1, 2], [3, 4, 5], [4, 4, 5])\n",
      "4\n",
      "f\n",
      "([1, 2, 3], [3, 9, 1, 2], [3, 4, 5], [7, 5, 9, 1])\n",
      "4\n",
      "f\n",
      "([1, 2, 3], [3, 9, 1, 2], [3, 4, 5], [7, 5, 9, 1])\n",
      "4\n",
      "f\n",
      "([1, 2, 3], [3, 9, 1, 2], [7, 7, 8, 9], [4, 4, 5])\n",
      "4\n",
      "f\n",
      "([1, 2, 3], [3, 9, 1, 2], [7, 7, 8, 9], [7, 5, 9, 1])\n",
      "4\n",
      "f\n",
      "([1, 2, 3], [3, 9, 1, 2], [7, 7, 8, 9], [7, 5, 9, 1])\n",
      "4\n",
      "f\n",
      "([1, 2, 3], [3, 9, 1, 2], [3, 1, 2, 3], [4, 4, 5])\n",
      "4\n",
      "f\n",
      "([1, 2, 3], [3, 9, 1, 2], [3, 1, 2, 3], [7, 5, 9, 1])\n",
      "4\n",
      "f\n",
      "([1, 2, 3], [3, 9, 1, 2], [3, 1, 2, 3], [7, 5, 9, 1])\n",
      "4\n",
      "f\n",
      "([2, 1, 2, 3], [2, 4, 5], [3, 4, 5], [4, 4, 5])\n",
      "4\n",
      "f\n",
      "([2, 1, 2, 3], [2, 4, 5], [3, 4, 5], [7, 5, 9, 1])\n",
      "4\n",
      "f\n",
      "([2, 1, 2, 3], [2, 4, 5], [3, 4, 5], [7, 5, 9, 1])\n",
      "4\n",
      "f\n",
      "([2, 1, 2, 3], [2, 4, 5], [7, 7, 8, 9], [4, 4, 5])\n",
      "4\n",
      "f\n",
      "([2, 1, 2, 3], [2, 4, 5], [7, 7, 8, 9], [7, 5, 9, 1])\n",
      "4\n",
      "f\n",
      "([2, 1, 2, 3], [2, 4, 5], [7, 7, 8, 9], [7, 5, 9, 1])\n",
      "4\n",
      "f\n",
      "([2, 1, 2, 3], [2, 4, 5], [3, 1, 2, 3], [4, 4, 5])\n",
      "4\n",
      "f\n",
      "([2, 1, 2, 3], [2, 4, 5], [3, 1, 2, 3], [7, 5, 9, 1])\n",
      "4\n",
      "f\n",
      "([2, 1, 2, 3], [2, 4, 5], [3, 1, 2, 3], [7, 5, 9, 1])\n",
      "4\n",
      "f\n",
      "([2, 1, 2, 3], [2, 6, 7, 8], [3, 4, 5], [4, 4, 5])\n",
      "4\n",
      "f\n",
      "([2, 1, 2, 3], [2, 6, 7, 8], [3, 4, 5], [7, 5, 9, 1])\n",
      "4\n",
      "f\n",
      "([2, 1, 2, 3], [2, 6, 7, 8], [3, 4, 5], [7, 5, 9, 1])\n",
      "4\n",
      "f\n",
      "([2, 1, 2, 3], [2, 6, 7, 8], [7, 7, 8, 9], [4, 4, 5])\n",
      "4\n",
      "f\n",
      "([2, 1, 2, 3], [2, 6, 7, 8], [7, 7, 8, 9], [7, 5, 9, 1])\n",
      "4\n",
      "f\n",
      "([2, 1, 2, 3], [2, 6, 7, 8], [7, 7, 8, 9], [7, 5, 9, 1])\n",
      "4\n",
      "f\n",
      "([2, 1, 2, 3], [2, 6, 7, 8], [3, 1, 2, 3], [4, 4, 5])\n",
      "4\n",
      "f\n",
      "([2, 1, 2, 3], [2, 6, 7, 8], [3, 1, 2, 3], [7, 5, 9, 1])\n",
      "4\n",
      "f\n",
      "([2, 1, 2, 3], [2, 6, 7, 8], [3, 1, 2, 3], [7, 5, 9, 1])\n",
      "4\n",
      "f\n",
      "([2, 1, 2, 3], [3, 9, 1, 2], [3, 4, 5], [4, 4, 5])\n",
      "4\n",
      "f\n",
      "([2, 1, 2, 3], [3, 9, 1, 2], [3, 4, 5], [7, 5, 9, 1])\n",
      "4\n",
      "f\n",
      "([2, 1, 2, 3], [3, 9, 1, 2], [3, 4, 5], [7, 5, 9, 1])\n",
      "4\n",
      "f\n",
      "([2, 1, 2, 3], [3, 9, 1, 2], [7, 7, 8, 9], [4, 4, 5])\n",
      "4\n",
      "f\n",
      "([2, 1, 2, 3], [3, 9, 1, 2], [7, 7, 8, 9], [7, 5, 9, 1])\n",
      "4\n",
      "f\n",
      "([2, 1, 2, 3], [3, 9, 1, 2], [7, 7, 8, 9], [7, 5, 9, 1])\n",
      "4\n",
      "f\n",
      "([2, 1, 2, 3], [3, 9, 1, 2], [3, 1, 2, 3], [4, 4, 5])\n",
      "4\n",
      "f\n",
      "([2, 1, 2, 3], [3, 9, 1, 2], [3, 1, 2, 3], [7, 5, 9, 1])\n",
      "4\n",
      "f\n",
      "([2, 1, 2, 3], [3, 9, 1, 2], [3, 1, 2, 3], [7, 5, 9, 1])\n",
      "4\n",
      "f\n",
      "([3, 1, 2, 3], [2, 4, 5], [3, 4, 5], [4, 4, 5])\n",
      "4\n",
      "f\n",
      "([3, 1, 2, 3], [2, 4, 5], [3, 4, 5], [7, 5, 9, 1])\n",
      "4\n",
      "f\n",
      "([3, 1, 2, 3], [2, 4, 5], [3, 4, 5], [7, 5, 9, 1])\n",
      "4\n",
      "f\n",
      "([3, 1, 2, 3], [2, 4, 5], [7, 7, 8, 9], [4, 4, 5])\n",
      "4\n",
      "f\n",
      "([3, 1, 2, 3], [2, 4, 5], [7, 7, 8, 9], [7, 5, 9, 1])\n",
      "4\n",
      "f\n",
      "([3, 1, 2, 3], [2, 4, 5], [7, 7, 8, 9], [7, 5, 9, 1])\n",
      "4\n",
      "f\n",
      "([3, 1, 2, 3], [2, 4, 5], [3, 1, 2, 3], [4, 4, 5])\n",
      "4\n",
      "f\n",
      "([3, 1, 2, 3], [2, 4, 5], [3, 1, 2, 3], [7, 5, 9, 1])\n",
      "4\n",
      "f\n",
      "([3, 1, 2, 3], [2, 4, 5], [3, 1, 2, 3], [7, 5, 9, 1])\n",
      "4\n",
      "f\n",
      "([3, 1, 2, 3], [2, 6, 7, 8], [3, 4, 5], [4, 4, 5])\n",
      "4\n",
      "f\n",
      "([3, 1, 2, 3], [2, 6, 7, 8], [3, 4, 5], [7, 5, 9, 1])\n",
      "4\n",
      "f\n",
      "([3, 1, 2, 3], [2, 6, 7, 8], [3, 4, 5], [7, 5, 9, 1])\n",
      "4\n",
      "f\n",
      "([3, 1, 2, 3], [2, 6, 7, 8], [7, 7, 8, 9], [4, 4, 5])\n",
      "4\n",
      "f\n",
      "([3, 1, 2, 3], [2, 6, 7, 8], [7, 7, 8, 9], [7, 5, 9, 1])\n",
      "4\n",
      "f\n",
      "([3, 1, 2, 3], [2, 6, 7, 8], [7, 7, 8, 9], [7, 5, 9, 1])\n",
      "4\n",
      "f\n",
      "([3, 1, 2, 3], [2, 6, 7, 8], [3, 1, 2, 3], [4, 4, 5])\n",
      "4\n",
      "f\n",
      "([3, 1, 2, 3], [2, 6, 7, 8], [3, 1, 2, 3], [7, 5, 9, 1])\n",
      "4\n",
      "f\n",
      "([3, 1, 2, 3], [2, 6, 7, 8], [3, 1, 2, 3], [7, 5, 9, 1])\n",
      "4\n",
      "f\n",
      "([3, 1, 2, 3], [3, 9, 1, 2], [3, 4, 5], [4, 4, 5])\n",
      "4\n",
      "f\n",
      "([3, 1, 2, 3], [3, 9, 1, 2], [3, 4, 5], [7, 5, 9, 1])\n",
      "4\n",
      "f\n",
      "([3, 1, 2, 3], [3, 9, 1, 2], [3, 4, 5], [7, 5, 9, 1])\n",
      "4\n",
      "f\n",
      "([3, 1, 2, 3], [3, 9, 1, 2], [7, 7, 8, 9], [4, 4, 5])\n",
      "4\n",
      "f\n",
      "([3, 1, 2, 3], [3, 9, 1, 2], [7, 7, 8, 9], [7, 5, 9, 1])\n",
      "4\n",
      "f\n",
      "([3, 1, 2, 3], [3, 9, 1, 2], [7, 7, 8, 9], [7, 5, 9, 1])\n",
      "4\n",
      "f\n",
      "([3, 1, 2, 3], [3, 9, 1, 2], [3, 1, 2, 3], [4, 4, 5])\n",
      "4\n",
      "f\n",
      "([3, 1, 2, 3], [3, 9, 1, 2], [3, 1, 2, 3], [7, 5, 9, 1])\n",
      "4\n",
      "f\n",
      "([3, 1, 2, 3], [3, 9, 1, 2], [3, 1, 2, 3], [7, 5, 9, 1])\n",
      "[([1, 2, 3], [2, 4, 5], [3, 4, 5], [4, 4, 5]), ([1, 2, 3], [2, 4, 5], [3, 4, 5], [7, 5, 9, 1]), ([1, 2, 3], [2, 4, 5], [3, 4, 5], [7, 5, 9, 1]), ([1, 2, 3], [2, 4, 5], [7, 7, 8, 9], [4, 4, 5]), ([1, 2, 3], [2, 4, 5], [7, 7, 8, 9], [7, 5, 9, 1]), ([1, 2, 3], [2, 4, 5], [7, 7, 8, 9], [7, 5, 9, 1]), ([1, 2, 3], [2, 4, 5], [3, 1, 2, 3], [4, 4, 5]), ([1, 2, 3], [2, 4, 5], [3, 1, 2, 3], [7, 5, 9, 1]), ([1, 2, 3], [2, 4, 5], [3, 1, 2, 3], [7, 5, 9, 1]), ([1, 2, 3], [2, 6, 7, 8], [3, 4, 5], [4, 4, 5]), ([1, 2, 3], [2, 6, 7, 8], [3, 4, 5], [7, 5, 9, 1]), ([1, 2, 3], [2, 6, 7, 8], [3, 4, 5], [7, 5, 9, 1]), ([1, 2, 3], [2, 6, 7, 8], [7, 7, 8, 9], [4, 4, 5]), ([1, 2, 3], [2, 6, 7, 8], [7, 7, 8, 9], [7, 5, 9, 1]), ([1, 2, 3], [2, 6, 7, 8], [7, 7, 8, 9], [7, 5, 9, 1]), ([1, 2, 3], [2, 6, 7, 8], [3, 1, 2, 3], [4, 4, 5]), ([1, 2, 3], [2, 6, 7, 8], [3, 1, 2, 3], [7, 5, 9, 1]), ([1, 2, 3], [2, 6, 7, 8], [3, 1, 2, 3], [7, 5, 9, 1]), ([1, 2, 3], [3, 9, 1, 2], [3, 4, 5], [4, 4, 5]), ([1, 2, 3], [3, 9, 1, 2], [3, 4, 5], [7, 5, 9, 1]), ([1, 2, 3], [3, 9, 1, 2], [3, 4, 5], [7, 5, 9, 1]), ([1, 2, 3], [3, 9, 1, 2], [7, 7, 8, 9], [4, 4, 5]), ([1, 2, 3], [3, 9, 1, 2], [7, 7, 8, 9], [7, 5, 9, 1]), ([1, 2, 3], [3, 9, 1, 2], [7, 7, 8, 9], [7, 5, 9, 1]), ([1, 2, 3], [3, 9, 1, 2], [3, 1, 2, 3], [4, 4, 5]), ([1, 2, 3], [3, 9, 1, 2], [3, 1, 2, 3], [7, 5, 9, 1]), ([1, 2, 3], [3, 9, 1, 2], [3, 1, 2, 3], [7, 5, 9, 1]), ([2, 1, 2, 3], [2, 4, 5], [3, 4, 5], [4, 4, 5]), ([2, 1, 2, 3], [2, 4, 5], [3, 4, 5], [7, 5, 9, 1]), ([2, 1, 2, 3], [2, 4, 5], [3, 4, 5], [7, 5, 9, 1]), ([2, 1, 2, 3], [2, 4, 5], [7, 7, 8, 9], [4, 4, 5]), ([2, 1, 2, 3], [2, 4, 5], [7, 7, 8, 9], [7, 5, 9, 1]), ([2, 1, 2, 3], [2, 4, 5], [7, 7, 8, 9], [7, 5, 9, 1]), ([2, 1, 2, 3], [2, 4, 5], [3, 1, 2, 3], [4, 4, 5]), ([2, 1, 2, 3], [2, 4, 5], [3, 1, 2, 3], [7, 5, 9, 1]), ([2, 1, 2, 3], [2, 4, 5], [3, 1, 2, 3], [7, 5, 9, 1]), ([2, 1, 2, 3], [2, 6, 7, 8], [3, 4, 5], [4, 4, 5]), ([2, 1, 2, 3], [2, 6, 7, 8], [3, 4, 5], [7, 5, 9, 1]), ([2, 1, 2, 3], [2, 6, 7, 8], [3, 4, 5], [7, 5, 9, 1]), ([2, 1, 2, 3], [2, 6, 7, 8], [7, 7, 8, 9], [4, 4, 5]), ([2, 1, 2, 3], [2, 6, 7, 8], [7, 7, 8, 9], [7, 5, 9, 1]), ([2, 1, 2, 3], [2, 6, 7, 8], [7, 7, 8, 9], [7, 5, 9, 1]), ([2, 1, 2, 3], [2, 6, 7, 8], [3, 1, 2, 3], [4, 4, 5]), ([2, 1, 2, 3], [2, 6, 7, 8], [3, 1, 2, 3], [7, 5, 9, 1]), ([2, 1, 2, 3], [2, 6, 7, 8], [3, 1, 2, 3], [7, 5, 9, 1]), ([2, 1, 2, 3], [3, 9, 1, 2], [3, 4, 5], [4, 4, 5]), ([2, 1, 2, 3], [3, 9, 1, 2], [3, 4, 5], [7, 5, 9, 1]), ([2, 1, 2, 3], [3, 9, 1, 2], [3, 4, 5], [7, 5, 9, 1]), ([2, 1, 2, 3], [3, 9, 1, 2], [7, 7, 8, 9], [4, 4, 5]), ([2, 1, 2, 3], [3, 9, 1, 2], [7, 7, 8, 9], [7, 5, 9, 1]), ([2, 1, 2, 3], [3, 9, 1, 2], [7, 7, 8, 9], [7, 5, 9, 1]), ([2, 1, 2, 3], [3, 9, 1, 2], [3, 1, 2, 3], [4, 4, 5]), ([2, 1, 2, 3], [3, 9, 1, 2], [3, 1, 2, 3], [7, 5, 9, 1]), ([2, 1, 2, 3], [3, 9, 1, 2], [3, 1, 2, 3], [7, 5, 9, 1]), ([3, 1, 2, 3], [2, 4, 5], [3, 4, 5], [4, 4, 5]), ([3, 1, 2, 3], [2, 4, 5], [3, 4, 5], [7, 5, 9, 1]), ([3, 1, 2, 3], [2, 4, 5], [3, 4, 5], [7, 5, 9, 1]), ([3, 1, 2, 3], [2, 4, 5], [7, 7, 8, 9], [4, 4, 5]), ([3, 1, 2, 3], [2, 4, 5], [7, 7, 8, 9], [7, 5, 9, 1]), ([3, 1, 2, 3], [2, 4, 5], [7, 7, 8, 9], [7, 5, 9, 1]), ([3, 1, 2, 3], [2, 4, 5], [3, 1, 2, 3], [4, 4, 5]), ([3, 1, 2, 3], [2, 4, 5], [3, 1, 2, 3], [7, 5, 9, 1]), ([3, 1, 2, 3], [2, 4, 5], [3, 1, 2, 3], [7, 5, 9, 1]), ([3, 1, 2, 3], [2, 6, 7, 8], [3, 4, 5], [4, 4, 5]), ([3, 1, 2, 3], [2, 6, 7, 8], [3, 4, 5], [7, 5, 9, 1]), ([3, 1, 2, 3], [2, 6, 7, 8], [3, 4, 5], [7, 5, 9, 1]), ([3, 1, 2, 3], [2, 6, 7, 8], [7, 7, 8, 9], [4, 4, 5]), ([3, 1, 2, 3], [2, 6, 7, 8], [7, 7, 8, 9], [7, 5, 9, 1]), ([3, 1, 2, 3], [2, 6, 7, 8], [7, 7, 8, 9], [7, 5, 9, 1]), ([3, 1, 2, 3], [2, 6, 7, 8], [3, 1, 2, 3], [4, 4, 5]), ([3, 1, 2, 3], [2, 6, 7, 8], [3, 1, 2, 3], [7, 5, 9, 1]), ([3, 1, 2, 3], [2, 6, 7, 8], [3, 1, 2, 3], [7, 5, 9, 1]), ([3, 1, 2, 3], [3, 9, 1, 2], [3, 4, 5], [4, 4, 5]), ([3, 1, 2, 3], [3, 9, 1, 2], [3, 4, 5], [7, 5, 9, 1]), ([3, 1, 2, 3], [3, 9, 1, 2], [3, 4, 5], [7, 5, 9, 1]), ([3, 1, 2, 3], [3, 9, 1, 2], [7, 7, 8, 9], [4, 4, 5]), ([3, 1, 2, 3], [3, 9, 1, 2], [7, 7, 8, 9], [7, 5, 9, 1]), ([3, 1, 2, 3], [3, 9, 1, 2], [7, 7, 8, 9], [7, 5, 9, 1]), ([3, 1, 2, 3], [3, 9, 1, 2], [3, 1, 2, 3], [4, 4, 5]), ([3, 1, 2, 3], [3, 9, 1, 2], [3, 1, 2, 3], [7, 5, 9, 1]), ([3, 1, 2, 3], [3, 9, 1, 2], [3, 1, 2, 3], [7, 5, 9, 1])]\n"
     ]
    }
   ],
   "source": [
    "from itertools import product\n",
    "\n",
    "# Your list of lists\n",
    "lists = [[[1, 2, 3], [2, 1, 2, 3], [3, 1, 2, 3]],\n",
    "         [[2, 4, 5], [2, 6, 7, 8], [3, 9, 1, 2]],\n",
    "         [[3, 4, 5], [7, 7, 8, 9], [3, 1, 2, 3]],\n",
    "         [[4, 4, 5], [7, 5, 9, 1], [7, 5, 9, 1]]]\n",
    "\n",
    "# Use itertools.product to generate all combinations\n",
    "combinations = list(product(*lists))\n",
    "len4 = []\n",
    "for comb in combinations :\n",
    "    print(len(comb))\n",
    "    if len(combinations) == 4 :\n",
    "        print(comb)\n",
    "\n",
    "    if len(comb) ==4:\n",
    "        print(\"f\")\n",
    "        print(comb)\n",
    "    else :\n",
    "        print(len(combinations))\n",
    "\n",
    "# Print the result\n",
    "\n",
    "print(combinations)\n",
    "# print(comb)"
   ]
  },
  {
   "cell_type": "code",
   "execution_count": 33,
   "id": "514dd377",
   "metadata": {},
   "outputs": [
    {
     "data": {
      "text/plain": [
       "[1, 2, 4, 6]"
      ]
     },
     "execution_count": 33,
     "metadata": {},
     "output_type": "execute_result"
    }
   ],
   "source": [
    "a = [[1,2,4,9], [1, 2, 4, 6]]\n",
    "c= a.pop()\n",
    "c\n"
   ]
  },
  {
   "cell_type": "code",
   "execution_count": 38,
   "id": "c3c91d87",
   "metadata": {},
   "outputs": [
    {
     "name": "stdout",
     "output_type": "stream",
     "text": [
      "9\n"
     ]
    }
   ],
   "source": [
    "print(len('_________'))"
   ]
  },
  {
   "cell_type": "code",
   "execution_count": 47,
   "id": "18248df1",
   "metadata": {},
   "outputs": [
    {
     "name": "stdout",
     "output_type": "stream",
     "text": [
      "1\n",
      "2\n",
      "3\n",
      "4\n",
      "5\n",
      "6\n",
      "7\n",
      "8\n",
      "9\n"
     ]
    }
   ],
   "source": [
    "for i in range(1, 10) :\n",
    "    print(i)"
   ]
  },
  {
   "cell_type": "code",
   "execution_count": 34,
   "id": "30bcd6ec",
   "metadata": {},
   "outputs": [
    {
     "data": {
      "text/plain": [
       "['1', '2', '4', '3', '5', '7', '6', '5', '8', '3', '2', '5']"
      ]
     },
     "execution_count": 34,
     "metadata": {},
     "output_type": "execute_result"
    }
   ],
   "source": [
    "list('124357658325')"
   ]
  },
  {
   "cell_type": "code",
   "execution_count": 111,
   "id": "7b302dc6",
   "metadata": {},
   "outputs": [
    {
     "ename": "ValueError",
     "evalue": "list.remove(x): x not in list",
     "output_type": "error",
     "traceback": [
      "\u001b[0;31m---------------------------------------------------------------------------\u001b[0m",
      "\u001b[0;31mValueError\u001b[0m                                Traceback (most recent call last)",
      "\u001b[0;32m/tmp/ipykernel_20283/3555238178.py\u001b[0m in \u001b[0;36m<module>\u001b[0;34m\u001b[0m\n\u001b[0;32m----> 1\u001b[0;31m \u001b[0mtemp\u001b[0m \u001b[0;34m=\u001b[0m \u001b[0;34m[\u001b[0m\u001b[0;34m'124357658325'\u001b[0m\u001b[0;34m]\u001b[0m\u001b[0;34m.\u001b[0m\u001b[0mremove\u001b[0m\u001b[0;34m(\u001b[0m\u001b[0;36m0\u001b[0m\u001b[0;34m)\u001b[0m\u001b[0;34m\u001b[0m\u001b[0;34m\u001b[0m\u001b[0m\n\u001b[0m",
      "\u001b[0;31mValueError\u001b[0m: list.remove(x): x not in list"
     ]
    }
   ],
   "source": [
    "temp = ['124357658325'].remove(0)"
   ]
  },
  {
   "cell_type": "code",
   "execution_count": 110,
   "id": "daa9073f",
   "metadata": {},
   "outputs": [
    {
     "data": {
      "text/plain": [
       "-1"
      ]
     },
     "execution_count": 110,
     "metadata": {},
     "output_type": "execute_result"
    }
   ],
   "source": [
    "'124357658325'.find('0')\n"
   ]
  },
  {
   "cell_type": "code",
   "execution_count": null,
   "id": "78f0cba7",
   "metadata": {},
   "outputs": [],
   "source": []
  },
  {
   "cell_type": "code",
   "execution_count": null,
   "id": "c7959e6e",
   "metadata": {},
   "outputs": [],
   "source": [
    "[0,1,2,3,4,5,6]"
   ]
  },
  {
   "cell_type": "code",
   "execution_count": 8,
   "id": "110f05f2",
   "metadata": {},
   "outputs": [
    {
     "name": "stdout",
     "output_type": "stream",
     "text": [
      "[3, 4, 3, 2, 4, 3, 3, 4, 1]\n"
     ]
    }
   ],
   "source": [
    "tablerette =   [[5, 3, 7],\n",
    "                [6, 1, 9, 5],\n",
    "                [9, 8, 6],\n",
    "                [8, 3],\n",
    "                [4, 8, 3, 1],\n",
    "                [7, 2, 6],\n",
    "                [6, 2, 8],\n",
    "                [4, 1, 9, 5],\n",
    "                [8]]\n",
    "tablerette_len = [len(i) for i in tablerette]\n",
    "print(tablerette_len)\n",
    "true_loop = 0\n",
    "while True :\n",
    "    if true_loop == 0:\n",
    "        pass\n",
    "    \n",
    "    counter = 9\n",
    "    \n",
    "\n",
    "\n",
    "\n",
    "\n",
    "\n",
    "    #valid grid\n",
    "\n",
    "\n",
    "    break\n"
   ]
  },
  {
   "cell_type": "code",
   "execution_count": 1,
   "id": "6e878c99",
   "metadata": {},
   "outputs": [],
   "source": [
    "# ceadea = \"phrase\"\n",
    "\n",
    "# ceadea[2] = 'k'"
   ]
  },
  {
   "cell_type": "code",
   "execution_count": 103,
   "id": "1e222104",
   "metadata": {},
   "outputs": [
    {
     "name": "stdout",
     "output_type": "stream",
     "text": [
      "109085063\n",
      "129085063\n",
      "129485063\n",
      "129485763\n"
     ]
    },
    {
     "data": {
      "text/plain": [
       "[1, 2, 9, 4, 8, 5, 7, 6, 3]"
      ]
     },
     "execution_count": 103,
     "metadata": {},
     "output_type": "execute_result"
    }
   ],
   "source": [
    "line = [0, 0, 9, 0, 8, 5, 0, 6, 3]\n",
    "poss = [1,2,4,7]\n",
    "temp_list = []\n",
    "for n in line :\n",
    "    temp_list.append(str(n))\n",
    "#str containing the list of numbers from line\n",
    "temp = ''.join(temp_list)\n",
    "for number in poss :\n",
    "    \n",
    "    # line as str\n",
    "    line[temp.find('0')] = number\n",
    "    temp = temp.replace('0', str(number), 1)\n",
    "    print(temp)\n",
    "line\n"
   ]
  },
  {
   "cell_type": "code",
   "execution_count": 71,
   "id": "39f887ee",
   "metadata": {},
   "outputs": [
    {
     "name": "stdout",
     "output_type": "stream",
     "text": [
      "0\n",
      "1\n",
      "2\n",
      "3\n",
      "4\n",
      "5\n",
      "6\n",
      "7\n",
      "8\n"
     ]
    }
   ],
   "source": [
    "for i in range(9):\n",
    "    print(i)"
   ]
  },
  {
   "cell_type": "code",
   "execution_count": 94,
   "id": "3683e43f",
   "metadata": {},
   "outputs": [
    {
     "name": "stdout",
     "output_type": "stream",
     "text": [
      "[[1, 2, 9, 4, 8, 5, 7, 6, 3]]\n",
      "0\n"
     ]
    }
   ],
   "source": [
    "import random as r\n",
    "i0 = []\n",
    "i0.append([1, 2, 9, 4, 8, 5, 7, 6, 3])\n",
    "print(i0)\n",
    "print(r.randint(0, 1))\n",
    "    #   r.randint(0, 10)\n"
   ]
  },
  {
   "cell_type": "code",
   "execution_count": null,
   "id": "80f1a371",
   "metadata": {},
   "outputs": [],
   "source": []
  },
  {
   "cell_type": "code",
   "execution_count": null,
   "id": "0e0e828b",
   "metadata": {},
   "outputs": [],
   "source": []
  },
  {
   "cell_type": "code",
   "execution_count": null,
   "id": "f773223f",
   "metadata": {},
   "outputs": [],
   "source": []
  },
  {
   "cell_type": "code",
   "execution_count": null,
   "id": "ef2ea603",
   "metadata": {},
   "outputs": [],
   "source": []
  },
  {
   "cell_type": "code",
   "execution_count": null,
   "id": "de03140b",
   "metadata": {},
   "outputs": [],
   "source": []
  },
  {
   "cell_type": "code",
   "execution_count": null,
   "id": "5c58341e",
   "metadata": {},
   "outputs": [],
   "source": []
  },
  {
   "cell_type": "code",
   "execution_count": null,
   "id": "4fd59ff4",
   "metadata": {},
   "outputs": [],
   "source": []
  },
  {
   "cell_type": "code",
   "execution_count": null,
   "id": "05f6086e",
   "metadata": {},
   "outputs": [],
   "source": []
  },
  {
   "cell_type": "code",
   "execution_count": null,
   "id": "1e1e3ab8",
   "metadata": {},
   "outputs": [],
   "source": []
  },
  {
   "cell_type": "code",
   "execution_count": null,
   "id": "62309ab3",
   "metadata": {},
   "outputs": [],
   "source": []
  },
  {
   "cell_type": "code",
   "execution_count": null,
   "id": "dcff2a56",
   "metadata": {},
   "outputs": [],
   "source": []
  },
  {
   "cell_type": "code",
   "execution_count": null,
   "id": "50932c90",
   "metadata": {},
   "outputs": [],
   "source": []
  },
  {
   "cell_type": "code",
   "execution_count": null,
   "id": "94f69a6e",
   "metadata": {},
   "outputs": [],
   "source": []
  },
  {
   "cell_type": "code",
   "execution_count": null,
   "id": "9e3cc568",
   "metadata": {},
   "outputs": [],
   "source": []
  },
  {
   "cell_type": "code",
   "execution_count": null,
   "id": "c1d16c66",
   "metadata": {},
   "outputs": [],
   "source": []
  },
  {
   "cell_type": "code",
   "execution_count": null,
   "id": "77432faf",
   "metadata": {},
   "outputs": [],
   "source": []
  },
  {
   "cell_type": "code",
   "execution_count": null,
   "id": "4d95b1d3",
   "metadata": {},
   "outputs": [],
   "source": []
  },
  {
   "cell_type": "code",
   "execution_count": null,
   "id": "10c6f00d",
   "metadata": {},
   "outputs": [],
   "source": []
  },
  {
   "cell_type": "code",
   "execution_count": null,
   "id": "6280f6c7",
   "metadata": {},
   "outputs": [],
   "source": []
  },
  {
   "cell_type": "code",
   "execution_count": null,
   "id": "65b60e85",
   "metadata": {},
   "outputs": [],
   "source": [
    "\n",
    "\n",
    "\n",
    "\n",
    "\n",
    "\n"
   ]
  }
 ],
 "metadata": {
  "kernelspec": {
   "display_name": "Python 3 (ipykernel)",
   "language": "python",
   "name": "python3"
  },
  "language_info": {
   "codemirror_mode": {
    "name": "ipython",
    "version": 3
   },
   "file_extension": ".py",
   "mimetype": "text/x-python",
   "name": "python",
   "nbconvert_exporter": "python",
   "pygments_lexer": "ipython3",
   "version": "3.8.12"
  },
  "toc": {
   "base_numbering": 1,
   "nav_menu": {},
   "number_sections": true,
   "sideBar": true,
   "skip_h1_title": false,
   "title_cell": "Table of Contents",
   "title_sidebar": "Contents",
   "toc_cell": false,
   "toc_position": {},
   "toc_section_display": true,
   "toc_window_display": false
  }
 },
 "nbformat": 4,
 "nbformat_minor": 5
}
